{
 "cells": [
  {
   "cell_type": "code",
   "execution_count": 1,
   "metadata": {},
   "outputs": [],
   "source": [
    "import numpy as np\n",
    "import pandas as pd\n",
    "from scipy.spatial.distance import pdist, squareform\n",
    "from scipy.cluster.hierarchy import linkage, dendrogram, fcluster\n",
    "import matplotlib.pyplot as plt\n",
    "from sklearn.preprocessing import StandardScaler\n",
    "from itertools import combinations \n",
    "from collections import defaultdict\n",
    "import itertools\n",
    "from sklearn import datasets"
   ]
  },
  {
   "cell_type": "markdown",
   "metadata": {},
   "source": [
    "## Data to test your function"
   ]
  },
  {
   "cell_type": "code",
   "execution_count": 2,
   "metadata": {},
   "outputs": [],
   "source": [
    "iris = datasets.load_iris()\n",
    "data = iris.data[0:5]\n",
    "\n",
    "#validating using below data:\n",
    "#data = [[1,2],[9,-4],[5,6],[21,8]]"
   ]
  },
  {
   "cell_type": "markdown",
   "metadata": {},
   "source": [
    "## Implementing my_pdist function and checking result with pdist"
   ]
  },
  {
   "cell_type": "code",
   "execution_count": 3,
   "metadata": {},
   "outputs": [
    {
     "data": {
      "text/plain": [
       "True"
      ]
     },
     "execution_count": 3,
     "metadata": {},
     "output_type": "execute_result"
    }
   ],
   "source": [
    "# run this code after importing pdist, look at its output\n",
    "vector = pdist(data, metric='euclidean')\n",
    "\n",
    "# now, make your own function\n",
    "def my_pdist(data):\n",
    "  return np.array([np.linalg.norm(np.array(v[0]) - np.array(v[1])) for v in list(combinations(data, 2))])\n",
    "\n",
    "my_vector = my_pdist(data)\n",
    "(my_vector == vector).all()"
   ]
  },
  {
   "cell_type": "markdown",
   "metadata": {},
   "source": [
    "## Implementing my_squareform function and checking result with squareform"
   ]
  },
  {
   "cell_type": "code",
   "execution_count": 4,
   "metadata": {},
   "outputs": [
    {
     "data": {
      "text/plain": [
       "True"
      ]
     },
     "execution_count": 4,
     "metadata": {},
     "output_type": "execute_result"
    }
   ],
   "source": [
    "# run this code after importing squareform, look at its output\n",
    "matrix = squareform(vector)\n",
    "\n",
    "# now, make your own function\n",
    "def my_squareform(vector):\n",
    "    # length. Combination ans is len of vector, given r = 2, what is n in nCr formula? \n",
    "    l = int(np.ceil(np.sqrt(vector.shape[0] * 2))) \n",
    "    \n",
    "    my_matrix = np.zeros((l,l))\n",
    "    c = list(combinations(range(l), 2))\n",
    "    for index, value in enumerate(c):\n",
    "        my_matrix[value] = vector[index]\n",
    "        my_matrix[value[::-1]] = vector[index]\n",
    "    return my_matrix\n",
    "\n",
    "my_matrix = my_squareform(my_vector)\n",
    "(my_matrix == matrix).all()"
   ]
  },
  {
   "cell_type": "markdown",
   "metadata": {},
   "source": [
    "## Implementing my_linkage function and checking result with linkage"
   ]
  },
  {
   "cell_type": "code",
   "execution_count": 10,
   "metadata": {},
   "outputs": [
    {
     "name": "stdout",
     "output_type": "stream",
     "text": [
      "True\n",
      "True\n",
      "True\n"
     ]
    }
   ],
   "source": [
    "# run each line below after importing linkage, look at its output\n",
    "# linkage(vector, method='complete', metric='euclidean') #passing vector, instead of matrix\n",
    "# linkage(vector, method='single', metric='euclidean') #passing vector, instead of matrix\n",
    "# linkage(vector, method='average', metric='euclidean') #passing vector, instead of matrix\n",
    "\n",
    "# helper function to calculate cluster distance\n",
    "def clust_dist(key, baseline_distance, cluster, method):\n",
    "    clust_comb = list(itertools.product(*[cluster[c] for c in key]))\n",
    "    if method == 'single':\n",
    "        min_dist = min([baseline_distance[tuple(sorted(x))] for x in clust_comb])\n",
    "    if method == 'complete':\n",
    "        min_dist = max([baseline_distance[tuple(sorted(x))] for x in clust_comb])\n",
    "    if method == 'average':\n",
    "        min_dist = np.mean([baseline_distance[tuple(sorted(x))] for x in clust_comb])\n",
    "    return min_dist\n",
    "\n",
    "# now, make your own function\n",
    "def my_linkage(matrix, method):\n",
    "    # initialize variables\n",
    "    m = matrix.shape[0]\n",
    "    Z = np.zeros((m-1,4))\n",
    "    next_clust = m\n",
    "    r,c = np.triu_indices(m,1)\n",
    "\n",
    "    # create baseline distance dict using the matrix upper triangle and index. \n",
    "    baseline_distance = {}\n",
    "    for key in zip(r,c):\n",
    "        baseline_distance[key] = matrix[key]\n",
    "\n",
    "    # create distance dict which is updated every loop\n",
    "    distance = baseline_distance\n",
    "\n",
    "    # create cluster which is updated every loop, each data point is consider as its own cluster to start with. \n",
    "    cluster = defaultdict(list)\n",
    "    for i in range(matrix.shape[0]):\n",
    "        cluster[i] = [i]\n",
    "\n",
    "    # loop\n",
    "    for grp_step in range(m-1):\n",
    "        \n",
    "        # using distance dict, find min distance and min key. \n",
    "        min_key = min(distance, key=distance.get) \n",
    "        min_distance = distance[min_key]\n",
    "        \n",
    "        # create Z matrix, every row is organized as item 1 and item 2 to form cluster n + 1, distance between item 1 and item 2, number of points in the formed cluster. \n",
    "        Z[grp_step,:] = min_key[0] ,min_key[1], min_distance, len(cluster[min_key[0]])+len(cluster[min_key[1]])\n",
    "        \n",
    "        # update cluster dict and next clust. Group points with min distance to form a new cluster and remove points that are already grouped. \n",
    "        element = [cluster.pop(min_key[0])]\n",
    "        element.append(cluster.pop(min_key[1]))\n",
    "        element =[item for sublist in element for item in sublist]\n",
    "        cluster[next_clust] = element\n",
    "        next_clust = next_clust + 1\n",
    "        \n",
    "        # update distance dict by using helper function clust_dict, which calculate cluster distance based on points inside the cluster. \n",
    "        distance = {}\n",
    "        for key in combinations(cluster.keys(),2):\n",
    "            if key in baseline_distance.keys():\n",
    "                distance[key] = baseline_distance[key]\n",
    "            if key not in distance.keys():\n",
    "                distance[key] = clust_dist(key, baseline_distance, cluster, method)\n",
    "    return(Z)\n",
    "\n",
    "print((my_linkage(my_matrix, method = 'single') == linkage(vector, method='single')).all())\n",
    "print((my_linkage(my_matrix, method = 'complete') == linkage(vector, method='complete')).all())\n",
    "print((my_linkage(my_matrix, method = 'average') == linkage(vector, method='average')).all())"
   ]
  }
 ],
 "metadata": {
  "kernelspec": {
   "display_name": "Python 3",
   "language": "python",
   "name": "python3"
  },
  "language_info": {
   "codemirror_mode": {
    "name": "ipython",
    "version": 3
   },
   "file_extension": ".py",
   "mimetype": "text/x-python",
   "name": "python",
   "nbconvert_exporter": "python",
   "pygments_lexer": "ipython3",
   "version": "3.7.1"
  }
 },
 "nbformat": 4,
 "nbformat_minor": 2
}
